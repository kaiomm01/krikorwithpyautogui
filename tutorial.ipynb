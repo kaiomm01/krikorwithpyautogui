{
 "cells": [
  {
   "cell_type": "code",
   "execution_count": 27,
   "metadata": {},
   "outputs": [],
   "source": [
    "import pyautogui\n",
    "import time\n",
    "\n",
    "# Esse comando funciona de forma que antes de um novo comando\n",
    "# ser executado, o pyautogui espera por 0,3 segundos. Essencial\n",
    "# para evitar possíveis falhas de carregamento\n",
    "pyautogui.PAUSE = 0.3"
   ]
  },
  {
   "cell_type": "markdown",
   "metadata": {},
   "source": [
    "Função para descobrir uma posição na tela"
   ]
  },
  {
   "cell_type": "code",
   "execution_count": 22,
   "metadata": {},
   "outputs": [],
   "source": [
    "def pegar_posicao(delay):\n",
    "    time.sleep(delay)\n",
    "    print(pyautogui.position())"
   ]
  },
  {
   "cell_type": "code",
   "execution_count": 6,
   "metadata": {},
   "outputs": [
    {
     "name": "stdout",
     "output_type": "stream",
     "text": [
      "Point(x=1450, y=308)\n",
      "Size(width=1920, height=1080)\n"
     ]
    }
   ],
   "source": [
    "# Pegar posições do mouse e da tela\n",
    "print(pyautogui.position())\n",
    "print(pyautogui.size())\n"
   ]
  },
  {
   "cell_type": "code",
   "execution_count": 52,
   "metadata": {},
   "outputs": [
    {
     "name": "stdout",
     "output_type": "stream",
     "text": [
      "Point(x=402, y=76)\n"
     ]
    }
   ],
   "source": [
    "# Descobrindo uma posição específica\n",
    "pegar_posicao(6)"
   ]
  },
  {
   "cell_type": "markdown",
   "metadata": {},
   "source": [
    "# Funções do mouse"
   ]
  },
  {
   "cell_type": "code",
   "execution_count": 14,
   "metadata": {},
   "outputs": [],
   "source": [
    "# usando o click\n",
    "time.sleep(5)\n",
    "pyautogui.click(x=766, y=577, button = 'left', clicks = 1)\n",
    "# Por padrão o número de cliques é 1 e o botão é o esquerdo\n"
   ]
  },
  {
   "cell_type": "markdown",
   "metadata": {},
   "source": [
    "Esse código era um pequeno teste que eu fiz enquanto o tutorial explicava os comandos. Basicamente ele sai da minha tela do vs code clicando na outra aba, então arrasta até a aba de cursos, clica em \"inteligência artifical\", então abaixa a tela até a parte em que aparece o preço"
   ]
  },
  {
   "cell_type": "code",
   "execution_count": 39,
   "metadata": {},
   "outputs": [],
   "source": [
    "# Arrastando o mouse até uma posição específica\n",
    "\n",
    "# Saindo da parte do vs code e clicando em um\n",
    "# lugar do site\n",
    "pyautogui.moveTo(x=869, y=470, duration = 1)\n",
    "pyautogui.click(x=869, y=470)\n",
    "\n",
    "\n",
    "pyautogui.moveTo(x=543, y=180, duration = 1)\n",
    "# o duration é opcional, quis apenas mostrar\n",
    "# que tem como controlar o tempo\n",
    "pyautogui.moveTo(x=1271, y=308)\n",
    "pyautogui.click(x=1271, y=308)\n",
    "\n",
    "\n",
    "time.sleep(3)\n",
    "pyautogui.scroll(-13500)"
   ]
  },
  {
   "cell_type": "markdown",
   "metadata": {},
   "source": [
    "# Funções do teclado"
   ]
  },
  {
   "cell_type": "code",
   "execution_count": 44,
   "metadata": {},
   "outputs": [
    {
     "name": "stdout",
     "output_type": "stream",
     "text": [
      "\t; \n",
      ";  ; !; \"; #; $; %; &; '; (; ); *; \n",
      "\n",
      "+; ,; -; .; /; 0; 1; 2; 3; 4; 5; 6; 7; 8; \n",
      "\n",
      "9; :; ;; <; =; >; ?; @; [; \\; ]; ^; _; `; \n",
      "\n",
      "a; b; c; d; e; f; g; h; i; j; k; l; m; n; \n",
      "\n",
      "o; p; q; r; s; t; u; v; w; x; y; z; {; |; \n",
      "\n",
      "}; ~; accept; add; alt; altleft; altright; apps; backspace; browserback; browserfavorites; browserforward; browserhome; browserrefresh; \n",
      "\n",
      "browsersearch; browserstop; capslock; clear; convert; ctrl; ctrlleft; ctrlright; decimal; del; delete; divide; down; end; \n",
      "\n",
      "enter; esc; escape; execute; f1; f10; f11; f12; f13; f14; f15; f16; f17; f18; \n",
      "\n",
      "f19; f2; f20; f21; f22; f23; f24; f3; f4; f5; f6; f7; f8; f9; \n",
      "\n",
      "final; fn; hanguel; hangul; hanja; help; home; insert; junja; kana; kanji; launchapp1; launchapp2; launchmail; \n",
      "\n",
      "launchmediaselect; left; modechange; multiply; nexttrack; nonconvert; num0; num1; num2; num3; num4; num5; num6; num7; \n",
      "\n",
      "num8; num9; numlock; pagedown; pageup; pause; pgdn; pgup; playpause; prevtrack; print; printscreen; prntscrn; prtsc; \n",
      "\n",
      "prtscr; return; right; scrolllock; select; separator; shift; shiftleft; shiftright; sleep; space; stop; subtract; tab; \n",
      "\n",
      "up; volumedown; volumemute; volumeup; win; winleft; winright; yen; command; option; optionleft; optionright; "
     ]
    }
   ],
   "source": [
    "# Visualizando as teclas que podem ser preesionadas\n",
    "contador = 0\n",
    "for i in pyautogui.KEYBOARD_KEYS:\n",
    "    print(f'{i}; ', end = '')\n",
    "    contador +=1\n",
    "    if contador % 14 == 0:\n",
    "        print('\\n')"
   ]
  },
  {
   "cell_type": "code",
   "execution_count": null,
   "metadata": {},
   "outputs": [],
   "source": [
    "# Escreve algo. Se certificar de que há um lugar\n",
    "# para esse algo ser escrito\n",
    "pyautogui.write('Olá, como está vc?')\n",
    "\n",
    "# Pressiona uma tecla\n",
    "pyautogui.press('enter')\n",
    "\n",
    "# Preesiona várias teclas de uma vez\n",
    "pyautogui.hotkey('ctrl', 'c')\n",
    "pyautogui.hotkey('ctrl', 'v')\n",
    "\n",
    "#posicao = pyautogui.locateCenterOnScreen('image.png')\n"
   ]
  }
 ],
 "metadata": {
  "kernelspec": {
   "display_name": "venv",
   "language": "python",
   "name": "python3"
  },
  "language_info": {
   "codemirror_mode": {
    "name": "ipython",
    "version": 3
   },
   "file_extension": ".py",
   "mimetype": "text/x-python",
   "name": "python",
   "nbconvert_exporter": "python",
   "pygments_lexer": "ipython3",
   "version": "3.9.13"
  }
 },
 "nbformat": 4,
 "nbformat_minor": 2
}
